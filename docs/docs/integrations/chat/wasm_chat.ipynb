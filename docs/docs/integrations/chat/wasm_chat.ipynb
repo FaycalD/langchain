{
 "cells": [
  {
   "cell_type": "markdown",
   "metadata": {},
   "source": [
    "# Wasm Chat\n",
    "\n",
    "`Wasm-chat` allows you to run open-source LLMs of [GGUF](https://github.com/ggerganov/llama.cpp/blob/master/gguf-py/README.md) format locally.\n",
    "\n",
    "\n",
    "`Wasm-chat` is driven by [WasmEdge Runtime](https://wasmedge.org/), a popular WebAssmbly runtime. It is also an attempt to run AI tasks within wasm containers.\n",
    "\n",
    "## Setup\n",
    "\n",
    "`deploy.sh` will deploy WasmEdge Runtime and `wasm-infer.wasm` in your local system. Run the following command in your terminal:"
   ]
  },
  {
   "cell_type": "code",
   "execution_count": 5,
   "metadata": {
    "vscode": {
     "languageId": "shellscript"
    }
   },
   "outputs": [
    {
     "name": "stdout",
     "output_type": "stream",
     "text": [
      "\n",
      "The installation will deploy 'WasmEdge Runtime' and 'wasm-infer.wasm' in your local environment:\n",
      "\n",
      "[+] Checking the operating system ...\n",
      "\n",
      "[+] Checking if 'git' and 'curl' are installed ...\n",
      "\n",
      "[+] Installing WasmEdge ...\n",
      "\n",
      "\u001b[0;33mUsing Python: /home/ubuntu/miniconda3/envs/langchain/bin/python3 \u001b[0m\n",
      "ERROR   - Exception on process - rc= 127 output= b'' command= ['/usr/local/cuda/bin/nvcc --version 2>/dev/null']\n",
      "WARNING - Experimental Option Selected: plugins\n",
      "WARNING - plugins option may change later\n",
      "INFO    - Compatible with current configuration\n",
      "INFO    - Running Uninstaller\n",
      "WARNING - SHELL variable not found. Using bash as SHELL\n",
      "INFO    - shell configuration updated\n",
      "INFO    - Downloading WasmEdge\n",
      "|============================================================|100.00 %INFO    - Downloaded\n",
      "INFO    - Installing WasmEdge\n",
      "INFO    - WasmEdge Successfully installed\n",
      "INFO    - Downloading Plugin: wasi_nn-ggml\n",
      "|============================================================|100.00 %INFO    - Downloaded\n",
      "INFO    - Run:\n",
      "source /home/ubuntu/.bashrc\n",
      "\n",
      "    The WasmEdge Runtime 0.13.5 is installed in /home/ubuntu/.wasmedge/bin/wasmedge.\n",
      "\n",
      "\n",
      "[+] Downloading 'wasm-infer.wasm' ...\n",
      "\n",
      "######################################################################## 100.0%\n",
      "\n",
      "* The installation is done! To uninstall WasmEdge Runtime, use the command 'bash deploy.sh uninstall'\n",
      "\n"
     ]
    }
   ],
   "source": [
    "!curl -sSf https://raw.githubusercontent.com/second-state/wasm-llm/main/deploy.sh | bash"
   ]
  },
  {
   "cell_type": "markdown",
   "metadata": {},
   "source": [
    "## Get model\n",
    "\n",
    "For the purpose of demonstration, we use a smaller model `TinyLlama-1.1B-Chat-v0.3`. Run the following command to download the model:"
   ]
  },
  {
   "cell_type": "code",
   "execution_count": 6,
   "metadata": {
    "vscode": {
     "languageId": "shellscript"
    }
   },
   "outputs": [
    {
     "name": "stdout",
     "output_type": "stream",
     "text": [
      "  % Total    % Received % Xferd  Average Speed   Time    Time     Time  Current\n",
      "                                 Dload  Upload   Total   Spent    Left  Speed\n",
      "100  1180  100  1180    0     0   5794      0 --:--:-- --:--:-- --:--:--  5812\n",
      "100  745M  100  745M    0     0   235M      0  0:00:03  0:00:03 --:--:--  294M\n"
     ]
    }
   ],
   "source": [
    "!curl -LO https://huggingface.co/second-state/TinyLlama-1.1B-Chat-v0.3-GGUF/resolve/main/tinyllama-1.1b-chat-v0.3.Q5_K_M.gguf"
   ]
  },
  {
   "cell_type": "markdown",
   "metadata": {},
   "source": [
    "More models and sample code can be found in [GGUF Models](https://github.com/second-state/wasm-llm/blob/main/MODEL.md)."
   ]
  },
  {
   "cell_type": "markdown",
   "metadata": {},
   "source": [
    "## Code: One-turn Conversation\n",
    "\n",
    "The following code shows a one-turn conversation with the model:"
   ]
  },
  {
   "cell_type": "code",
   "execution_count": 7,
   "metadata": {},
   "outputs": [
    {
     "name": "stdout",
     "output_type": "stream",
     "text": [
      "[Bot] Paris\n"
     ]
    }
   ],
   "source": [
    "from langchain.chat_models.wasm_chat import ChatWasm, PromptTemplateType\n",
    "from langchain.schema.messages import AIMessage, HumanMessage, SystemMessage\n",
    "\n",
    "model_file = \"tinyllama-1.1b-chat-v0.3.Q5_K_M.gguf\"\n",
    "\n",
    "chat = ChatWasm(model_file=model_file, prompt_template=PromptTemplateType.ChatML)\n",
    "\n",
    "system_message = SystemMessage(content=\"You are an AI assistant\")\n",
    "user_message = HumanMessage(content=\"What is the capital of France?\")\n",
    "messages = [system_message, user_message]\n",
    "chat_result = chat(messages)\n",
    "print(f\"[Bot] {chat_result.content}\")\n",
    "\n",
    "assert isinstance(chat_result, AIMessage)\n",
    "assert isinstance(chat_result.content, str)\n",
    "assert \"Paris\" in chat_result.content"
   ]
  }
 ],
 "metadata": {
  "kernelspec": {
   "display_name": "langchain",
   "language": "python",
   "name": "python3"
  },
  "language_info": {
   "codemirror_mode": {
    "name": "ipython",
    "version": 3
   },
   "file_extension": ".py",
   "mimetype": "text/x-python",
   "name": "python",
   "nbconvert_exporter": "python",
   "pygments_lexer": "ipython3",
   "version": "3.11.5"
  }
 },
 "nbformat": 4,
 "nbformat_minor": 2
}
